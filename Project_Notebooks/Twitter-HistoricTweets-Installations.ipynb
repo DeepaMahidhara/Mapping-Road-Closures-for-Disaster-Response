{
 "cells": [
  {
   "cell_type": "markdown",
   "metadata": {},
   "source": [
    "## Pre-requisites:\n",
    "\n",
    "* A Twitter account with a valid phone number, email\n",
    "* pip install tweepy, config, jsonpickle\n",
    "* Register and create your Twitter Application using https://apps.twitter.com/ to get API access keys and tokens."
   ]
  },
  {
   "cell_type": "code",
   "execution_count": 1,
   "metadata": {},
   "outputs": [
    {
     "name": "stdout",
     "output_type": "stream",
     "text": [
      "Requirement already satisfied: tweepy in /Users/kkesari/anaconda3/envs/dsi/lib/python3.6/site-packages (3.7.0)\n",
      "Requirement already satisfied: PySocks>=1.5.7 in /Users/kkesari/anaconda3/envs/dsi/lib/python3.6/site-packages (from tweepy) (1.6.8)\n",
      "Requirement already satisfied: six>=1.10.0 in /Users/kkesari/anaconda3/envs/dsi/lib/python3.6/site-packages (from tweepy) (1.12.0)\n",
      "Requirement already satisfied: requests>=2.11.1 in /Users/kkesari/anaconda3/envs/dsi/lib/python3.6/site-packages (from tweepy) (2.21.0)\n",
      "Requirement already satisfied: requests-oauthlib>=0.7.0 in /Users/kkesari/anaconda3/envs/dsi/lib/python3.6/site-packages (from tweepy) (1.2.0)\n",
      "Requirement already satisfied: chardet<3.1.0,>=3.0.2 in /Users/kkesari/anaconda3/envs/dsi/lib/python3.6/site-packages (from requests>=2.11.1->tweepy) (3.0.4)\n",
      "Requirement already satisfied: urllib3<1.25,>=1.21.1 in /Users/kkesari/anaconda3/envs/dsi/lib/python3.6/site-packages (from requests>=2.11.1->tweepy) (1.24.1)\n",
      "Requirement already satisfied: certifi>=2017.4.17 in /Users/kkesari/anaconda3/envs/dsi/lib/python3.6/site-packages (from requests>=2.11.1->tweepy) (2019.3.9)\n",
      "Requirement already satisfied: idna<2.9,>=2.5 in /Users/kkesari/anaconda3/envs/dsi/lib/python3.6/site-packages (from requests>=2.11.1->tweepy) (2.8)\n",
      "Requirement already satisfied: oauthlib>=3.0.0 in /Users/kkesari/anaconda3/envs/dsi/lib/python3.6/site-packages (from requests-oauthlib>=0.7.0->tweepy) (3.0.1)\n"
     ]
    }
   ],
   "source": [
    "# Install Tweepy\n",
    "!pip install tweepy"
   ]
  },
  {
   "cell_type": "code",
   "execution_count": 2,
   "metadata": {},
   "outputs": [
    {
     "name": "stdout",
     "output_type": "stream",
     "text": [
      "Requirement already satisfied: jsonpickle in /Users/kkesari/anaconda3/envs/dsi/lib/python3.6/site-packages (1.1)\r\n"
     ]
    }
   ],
   "source": [
    "# Install jsonpickle\n",
    "!pip install jsonpickle"
   ]
  },
  {
   "cell_type": "code",
   "execution_count": 3,
   "metadata": {},
   "outputs": [
    {
     "name": "stdout",
     "output_type": "stream",
     "text": [
      "Requirement already satisfied: config in /Users/kkesari/anaconda3/envs/dsi/lib/python3.6/site-packages (0.4.0)\r\n"
     ]
    }
   ],
   "source": [
    "# Install config\n",
    "!pip install config"
   ]
  },
  {
   "cell_type": "code",
   "execution_count": 4,
   "metadata": {},
   "outputs": [
    {
     "name": "stdout",
     "output_type": "stream",
     "text": [
      "/Users/kkesari/DSI/Projects/roads_project/Aruna/OldTweets_project/GetOldTweets3\n",
      "Requirement already satisfied: lxml>=3.5.0 in /Users/kkesari/anaconda3/envs/dsi/lib/python3.6/site-packages (from -r requirements.txt (line 1)) (3.5.0)\n",
      "Requirement already satisfied: pyquery>=1.2.10 in /Users/kkesari/anaconda3/envs/dsi/lib/python3.6/site-packages (from -r requirements.txt (line 2)) (1.2.10)\n",
      "Requirement already satisfied: cssselect>0.7.9 in /Users/kkesari/anaconda3/envs/dsi/lib/python3.6/site-packages (from pyquery>=1.2.10->-r requirements.txt (line 2)) (1.0.3)\n"
     ]
    }
   ],
   "source": [
    "# Install GetOldTweets3\n",
    "%cd './OldTweets_project/GetOldTweets3'\n",
    "!pip install -r requirements.txt"
   ]
  },
  {
   "cell_type": "code",
   "execution_count": null,
   "metadata": {},
   "outputs": [],
   "source": []
  }
 ],
 "metadata": {
  "kernelspec": {
   "display_name": "Python 3",
   "language": "python",
   "name": "python3"
  },
  "language_info": {
   "codemirror_mode": {
    "name": "ipython",
    "version": 3
   },
   "file_extension": ".py",
   "mimetype": "text/x-python",
   "name": "python",
   "nbconvert_exporter": "python",
   "pygments_lexer": "ipython3",
   "version": "3.6.7"
  }
 },
 "nbformat": 4,
 "nbformat_minor": 2
}
