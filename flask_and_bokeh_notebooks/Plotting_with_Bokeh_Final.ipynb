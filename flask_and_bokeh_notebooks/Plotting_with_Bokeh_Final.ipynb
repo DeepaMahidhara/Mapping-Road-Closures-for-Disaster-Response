{
 "cells": [
  {
   "cell_type": "markdown",
   "metadata": {},
   "source": [
    "# Plotting with Bokeh using the Google Maps API"
   ]
  },
  {
   "cell_type": "markdown",
   "metadata": {},
   "source": [
    "Followed the instructions from this video tutorial: https://www.youtube.com/watch?v=P60qokxPPZc\n",
    "\n",
    "This requires a google maps account to connect to the API"
   ]
  },
  {
   "cell_type": "code",
   "execution_count": 1,
   "metadata": {},
   "outputs": [],
   "source": [
    "import os \n",
    "import pandas as pd \n",
    "import numpy as np"
   ]
  },
  {
   "cell_type": "code",
   "execution_count": 2,
   "metadata": {},
   "outputs": [],
   "source": [
    "#import bokeh and google maps libraries \n",
    "\n",
    "from bokeh.io import show, output_file\n",
    "from bokeh.models import (GMapPlot, GMapOptions, ColumnDataSource,\n",
    "                         Circle, DataRange1d, PanTool, \n",
    "                         WheelZoomTool, BoxSelectTool, Range1d)"
   ]
  },
  {
   "cell_type": "code",
   "execution_count": 3,
   "metadata": {},
   "outputs": [],
   "source": [
    "#import the clean csv output from here.com scraping \n",
    "\n",
    "df = pd.read_csv('./Coordinates/all_locations_for_tableau.csv')"
   ]
  },
  {
   "cell_type": "code",
   "execution_count": 4,
   "metadata": {
    "scrolled": true
   },
   "outputs": [
    {
     "data": {
      "text/html": [
       "<div>\n",
       "<style scoped>\n",
       "    .dataframe tbody tr th:only-of-type {\n",
       "        vertical-align: middle;\n",
       "    }\n",
       "\n",
       "    .dataframe tbody tr th {\n",
       "        vertical-align: top;\n",
       "    }\n",
       "\n",
       "    .dataframe thead th {\n",
       "        text-align: right;\n",
       "    }\n",
       "</style>\n",
       "<table border=\"1\" class=\"dataframe\">\n",
       "  <thead>\n",
       "    <tr style=\"text-align: right;\">\n",
       "      <th></th>\n",
       "      <th>LATITUDE</th>\n",
       "      <th>LONGITUDE</th>\n",
       "      <th>start_end</th>\n",
       "      <th>incident</th>\n",
       "    </tr>\n",
       "  </thead>\n",
       "  <tbody>\n",
       "    <tr>\n",
       "      <th>0</th>\n",
       "      <td>35.716890</td>\n",
       "      <td>-77.644551</td>\n",
       "      <td>start</td>\n",
       "      <td>0</td>\n",
       "    </tr>\n",
       "    <tr>\n",
       "      <th>1</th>\n",
       "      <td>34.341570</td>\n",
       "      <td>-78.599610</td>\n",
       "      <td>start</td>\n",
       "      <td>1</td>\n",
       "    </tr>\n",
       "    <tr>\n",
       "      <th>2</th>\n",
       "      <td>35.772509</td>\n",
       "      <td>-77.993278</td>\n",
       "      <td>start</td>\n",
       "      <td>2</td>\n",
       "    </tr>\n",
       "    <tr>\n",
       "      <th>3</th>\n",
       "      <td>33.912340</td>\n",
       "      <td>-78.073370</td>\n",
       "      <td>start</td>\n",
       "      <td>3</td>\n",
       "    </tr>\n",
       "    <tr>\n",
       "      <th>4</th>\n",
       "      <td>35.973615</td>\n",
       "      <td>-77.450731</td>\n",
       "      <td>start</td>\n",
       "      <td>4</td>\n",
       "    </tr>\n",
       "  </tbody>\n",
       "</table>\n",
       "</div>"
      ],
      "text/plain": [
       "    LATITUDE  LONGITUDE start_end  incident\n",
       "0  35.716890 -77.644551     start         0\n",
       "1  34.341570 -78.599610     start         1\n",
       "2  35.772509 -77.993278     start         2\n",
       "3  33.912340 -78.073370     start         3\n",
       "4  35.973615 -77.450731     start         4"
      ]
     },
     "execution_count": 4,
     "metadata": {},
     "output_type": "execute_result"
    }
   ],
   "source": [
    "df.head()"
   ]
  },
  {
   "cell_type": "code",
   "execution_count": 5,
   "metadata": {},
   "outputs": [],
   "source": [
    "#save as different variables so we can call easily\n",
    "\n",
    "lat = df['LATITUDE']\n",
    "long = df['LONGITUDE']"
   ]
  },
  {
   "cell_type": "code",
   "execution_count": 6,
   "metadata": {},
   "outputs": [
    {
     "name": "stdout",
     "output_type": "stream",
     "text": [
      "35.24462020238094\n",
      "-78.10955934523807\n"
     ]
    }
   ],
   "source": [
    "#get the mean of the columns for a center point for the map to zoom on\n",
    "\n",
    "print(np.mean(lat))\n",
    "print(np.mean(long))"
   ]
  },
  {
   "cell_type": "code",
   "execution_count": 7,
   "metadata": {},
   "outputs": [],
   "source": [
    "map_options = GMapOptions(lat = np.mean(df['LATITUDE']), lng = np.mean(df['LONGITUDE']),\n",
    "                                                                      map_type = 'roadmap', zoom = 3)"
   ]
  },
  {
   "cell_type": "code",
   "execution_count": 8,
   "metadata": {},
   "outputs": [],
   "source": [
    "api_key = 'API_KEY'\n"
   ]
  },
  {
   "cell_type": "code",
   "execution_count": 9,
   "metadata": {},
   "outputs": [],
   "source": [
    "plot = GMapPlot(x_range= Range1d(),\n",
    "                y_range= Range1d(),\n",
    "                map_options = map_options,\n",
    "                api_key = api_key)\n",
    "\n",
    "plot.add_tools(PanTool(), WheelZoomTool(), BoxSelectTool())"
   ]
  },
  {
   "cell_type": "code",
   "execution_count": 10,
   "metadata": {},
   "outputs": [],
   "source": [
    "# baseline = df['']\n",
    "scale = 0.5\n",
    "source = ColumnDataSource(data=dict(lat=df['LATITUDE'].tolist(),\n",
    "                                    long = df['LONGITUDE'].tolist()))"
   ]
  },
  {
   "cell_type": "code",
   "execution_count": 11,
   "metadata": {},
   "outputs": [
    {
     "data": {
      "text/html": [
       "<div style=\"display: table;\"><div style=\"display: table-row;\"><div style=\"display: table-cell;\"><b title=\"bokeh.models.sources.ColumnDataSource\">ColumnDataSource</b>(</div><div style=\"display: table-cell;\">id&nbsp;=&nbsp;'1013', <span id=\"1015\" style=\"cursor: pointer;\">&hellip;)</span></div></div><div class=\"1014\" style=\"display: none;\"><div style=\"display: table-cell;\"></div><div style=\"display: table-cell;\">callback&nbsp;=&nbsp;None,</div></div><div class=\"1014\" style=\"display: none;\"><div style=\"display: table-cell;\"></div><div style=\"display: table-cell;\">data&nbsp;=&nbsp;{'long': [-77.644551, -78.59961, -77.993278, -78.07337, -77.450731, -78.55736999999999, -77.47816, -78.6181, -78.22077, -77.93236, -77.614712, -78.49195, -78.6913, -78.05892, -78.49123, -78.2692, -76.76916, -76.77184, -78.40002, -78.71240999999999, -78.05868000000001, -78.53008, -78.7064, -78.26935, -78.60888, -77.45322, -77.993184, -78.18329, -77.61569300000001, -78.05868000000001, -78.232715, -77.94229, -78.70699, -77.91931600000001, -78.18438, -78.64049, -78.51434, -78.07330999999999, -78.404934, -78.55756, -77.63623299999999, -77.47910999999999, -77.63623299999999, -78.599337, -77.993184, -78.07330999999999, -77.45322, -78.55756, -77.47910999999999, -78.60888, -78.232715, -77.94229, -77.61569300000001, -78.49123, -78.7064, -78.0603, -78.49195, -78.26935, -76.77184, -76.76916, -78.404934, -78.70699, -78.05868000000001, -78.51434, -78.6913, -78.2692, -78.6181, -77.450731, -77.993278, -78.18438, -77.614712, -78.05868000000001, -78.22077, -77.93236, -78.71240999999999, -77.90486, -78.18329, -78.64049, -78.53008, -78.07337, -78.40002, -78.55736999999999, -77.644551, -77.47816], 'lat': [35.71689, 34.341570000000004, 35.772509, 33.91234, 35.973615, 35.70597, 35.09559, 34.21948, 35.55038, 35.18072, 35.925067999999996, 35.26337, 36.27482, 35.237120000000004, 35.274539000000004, 33.91969, 34.86908, 34.85965, 35.77462, 35.50111, 35.144040000000004, 34.98746, 36.26758, 33.913909999999994, 34.200309999999995, 35.9742, 35.775684000000005, 35.55539, 35.925001, 35.144040000000004, 35.544858000000005, 35.18093, 35.4749, 34.227596000000005, 35.557590000000005, 35.79672, 34.99804, 33.91294, 35.78552, 35.7082, 35.727026, 35.11712, 35.727026, 34.332538, 35.775684000000005, 33.91294, 35.9742, 35.7082, 35.11712, 34.200309999999995, 35.544858000000005, 35.18093, 35.925001, 35.274539000000004, 36.26758, 35.222163, 35.26337, 33.913909999999994, 34.85965, 34.86908, 35.78552, 35.4749, 35.144040000000004, 34.99804, 36.27482, 33.91969, 34.21948, 35.973615, 35.772509, 35.557590000000005, 35.925067999999996, 35.144040000000004, 35.55038, 35.18072, 35.50111, 34.22531, 35.55539, 35.79672, 34.98746, 33.91234, 35.77462, 35.70597, 35.71689, 35.09559]},</div></div><div class=\"1014\" style=\"display: none;\"><div style=\"display: table-cell;\"></div><div style=\"display: table-cell;\">js_event_callbacks&nbsp;=&nbsp;{},</div></div><div class=\"1014\" style=\"display: none;\"><div style=\"display: table-cell;\"></div><div style=\"display: table-cell;\">js_property_callbacks&nbsp;=&nbsp;{},</div></div><div class=\"1014\" style=\"display: none;\"><div style=\"display: table-cell;\"></div><div style=\"display: table-cell;\">name&nbsp;=&nbsp;None,</div></div><div class=\"1014\" style=\"display: none;\"><div style=\"display: table-cell;\"></div><div style=\"display: table-cell;\">selected&nbsp;=&nbsp;Selection(id='1017', ...),</div></div><div class=\"1014\" style=\"display: none;\"><div style=\"display: table-cell;\"></div><div style=\"display: table-cell;\">selection_policy&nbsp;=&nbsp;UnionRenderers(id='1016', ...),</div></div><div class=\"1014\" style=\"display: none;\"><div style=\"display: table-cell;\"></div><div style=\"display: table-cell;\">subscribed_events&nbsp;=&nbsp;[],</div></div><div class=\"1014\" style=\"display: none;\"><div style=\"display: table-cell;\"></div><div style=\"display: table-cell;\">tags&nbsp;=&nbsp;[])</div></div></div>\n",
       "<script>\n",
       "(function() {\n",
       "  var expanded = false;\n",
       "  var ellipsis = document.getElementById(\"1015\");\n",
       "  ellipsis.addEventListener(\"click\", function() {\n",
       "    var rows = document.getElementsByClassName(\"1014\");\n",
       "    for (var i = 0; i < rows.length; i++) {\n",
       "      var el = rows[i];\n",
       "      el.style.display = expanded ? \"none\" : \"table-row\";\n",
       "    }\n",
       "    ellipsis.innerHTML = expanded ? \"&hellip;)\" : \"&lsaquo;&lsaquo;&lsaquo;\";\n",
       "    expanded = !expanded;\n",
       "  });\n",
       "})();\n",
       "</script>\n"
      ],
      "text/plain": [
       "ColumnDataSource(id='1013', ...)"
      ]
     },
     "execution_count": 11,
     "metadata": {},
     "output_type": "execute_result"
    }
   ],
   "source": [
    "source"
   ]
  },
  {
   "cell_type": "code",
   "execution_count": 12,
   "metadata": {},
   "outputs": [
    {
     "data": {
      "text/html": [
       "<div style=\"display: table;\"><div style=\"display: table-row;\"><div style=\"display: table-cell;\"><b title=\"bokeh.models.renderers.GlyphRenderer\">GlyphRenderer</b>(</div><div style=\"display: table-cell;\">id&nbsp;=&nbsp;'1019', <span id=\"1022\" style=\"cursor: pointer;\">&hellip;)</span></div></div><div class=\"1021\" style=\"display: none;\"><div style=\"display: table-cell;\"></div><div style=\"display: table-cell;\">data_source&nbsp;=&nbsp;ColumnDataSource(id='1013', ...),</div></div><div class=\"1021\" style=\"display: none;\"><div style=\"display: table-cell;\"></div><div style=\"display: table-cell;\">glyph&nbsp;=&nbsp;Circle(id='1018', ...),</div></div><div class=\"1021\" style=\"display: none;\"><div style=\"display: table-cell;\"></div><div style=\"display: table-cell;\">hover_glyph&nbsp;=&nbsp;None,</div></div><div class=\"1021\" style=\"display: none;\"><div style=\"display: table-cell;\"></div><div style=\"display: table-cell;\">js_event_callbacks&nbsp;=&nbsp;{},</div></div><div class=\"1021\" style=\"display: none;\"><div style=\"display: table-cell;\"></div><div style=\"display: table-cell;\">js_property_callbacks&nbsp;=&nbsp;{},</div></div><div class=\"1021\" style=\"display: none;\"><div style=\"display: table-cell;\"></div><div style=\"display: table-cell;\">level&nbsp;=&nbsp;'glyph',</div></div><div class=\"1021\" style=\"display: none;\"><div style=\"display: table-cell;\"></div><div style=\"display: table-cell;\">muted&nbsp;=&nbsp;False,</div></div><div class=\"1021\" style=\"display: none;\"><div style=\"display: table-cell;\"></div><div style=\"display: table-cell;\">muted_glyph&nbsp;=&nbsp;None,</div></div><div class=\"1021\" style=\"display: none;\"><div style=\"display: table-cell;\"></div><div style=\"display: table-cell;\">name&nbsp;=&nbsp;None,</div></div><div class=\"1021\" style=\"display: none;\"><div style=\"display: table-cell;\"></div><div style=\"display: table-cell;\">nonselection_glyph&nbsp;=&nbsp;'auto',</div></div><div class=\"1021\" style=\"display: none;\"><div style=\"display: table-cell;\"></div><div style=\"display: table-cell;\">selection_glyph&nbsp;=&nbsp;'auto',</div></div><div class=\"1021\" style=\"display: none;\"><div style=\"display: table-cell;\"></div><div style=\"display: table-cell;\">subscribed_events&nbsp;=&nbsp;[],</div></div><div class=\"1021\" style=\"display: none;\"><div style=\"display: table-cell;\"></div><div style=\"display: table-cell;\">tags&nbsp;=&nbsp;[],</div></div><div class=\"1021\" style=\"display: none;\"><div style=\"display: table-cell;\"></div><div style=\"display: table-cell;\">view&nbsp;=&nbsp;CDSView(id='1020', ...),</div></div><div class=\"1021\" style=\"display: none;\"><div style=\"display: table-cell;\"></div><div style=\"display: table-cell;\">visible&nbsp;=&nbsp;True,</div></div><div class=\"1021\" style=\"display: none;\"><div style=\"display: table-cell;\"></div><div style=\"display: table-cell;\">x_range_name&nbsp;=&nbsp;'default',</div></div><div class=\"1021\" style=\"display: none;\"><div style=\"display: table-cell;\"></div><div style=\"display: table-cell;\">y_range_name&nbsp;=&nbsp;'default')</div></div></div>\n",
       "<script>\n",
       "(function() {\n",
       "  var expanded = false;\n",
       "  var ellipsis = document.getElementById(\"1022\");\n",
       "  ellipsis.addEventListener(\"click\", function() {\n",
       "    var rows = document.getElementsByClassName(\"1021\");\n",
       "    for (var i = 0; i < rows.length; i++) {\n",
       "      var el = rows[i];\n",
       "      el.style.display = expanded ? \"none\" : \"table-row\";\n",
       "    }\n",
       "    ellipsis.innerHTML = expanded ? \"&hellip;)\" : \"&lsaquo;&lsaquo;&lsaquo;\";\n",
       "    expanded = !expanded;\n",
       "  });\n",
       "})();\n",
       "</script>\n"
      ],
      "text/plain": [
       "GlyphRenderer(id='1019', ...)"
      ]
     },
     "execution_count": 12,
     "metadata": {},
     "output_type": "execute_result"
    }
   ],
   "source": [
    "circle = Circle(x ='long',\n",
    "                y = 'lat',\n",
    "                size = 5,\n",
    "                fill_color = 'blue', \n",
    "                fill_alpha = 0.5)\n",
    "\n",
    "plot.add_glyph(source, circle)\n"
   ]
  },
  {
   "cell_type": "code",
   "execution_count": 13,
   "metadata": {},
   "outputs": [],
   "source": [
    "output_file('USA_plot.html')\n",
    "show(plot)"
   ]
  },
  {
   "cell_type": "markdown",
   "metadata": {},
   "source": [
    "The code below is an attempt to connect the start and end points for each road closure together "
   ]
  },
  {
   "cell_type": "code",
   "execution_count": 14,
   "metadata": {},
   "outputs": [],
   "source": [
    "# !pip install gmplot"
   ]
  },
  {
   "cell_type": "code",
   "execution_count": 15,
   "metadata": {},
   "outputs": [
    {
     "data": {
      "text/plain": [
       "0    35.716890\n",
       "1    34.341570\n",
       "2    35.772509\n",
       "3    33.912340\n",
       "4    35.973615\n",
       "Name: LATITUDE, dtype: float64"
      ]
     },
     "execution_count": 15,
     "metadata": {},
     "output_type": "execute_result"
    }
   ],
   "source": [
    "lat.head()"
   ]
  },
  {
   "cell_type": "code",
   "execution_count": 16,
   "metadata": {},
   "outputs": [
    {
     "data": {
      "text/plain": [
       "0   -77.644551\n",
       "1   -78.599610\n",
       "2   -77.993278\n",
       "3   -78.073370\n",
       "4   -77.450731\n",
       "Name: LONGITUDE, dtype: float64"
      ]
     },
     "execution_count": 16,
     "metadata": {},
     "output_type": "execute_result"
    }
   ],
   "source": [
    "long.head()"
   ]
  },
  {
   "cell_type": "code",
   "execution_count": 17,
   "metadata": {},
   "outputs": [],
   "source": [
    "import gmplot \n",
    "  \n",
    "latitude_list = lat\n",
    "longitude_list = long\n",
    "  \n",
    "gmap3 = gmplot.GoogleMapPlotter(30.3164945, \n",
    "                                78.03219179999999, 13) \n",
    "  \n",
    "# scatter method of map object  \n",
    "# scatter points on the google map \n",
    "gmap3.scatter( latitude_list, longitude_list, '# FF0000', \n",
    "                              size = 40, marker = False ) \n",
    "  \n",
    "# Plot method Draw a line in \n",
    "# between given coordinates \n",
    "gmap3.plot(latitude_list, longitude_list,  \n",
    "           'cornflowerblue', edge_width = 2.5) \n",
    "  \n",
    "gmap3.draw( \"C:\\\\Users\\\\user\\\\DSI\\\\Project\\\\roads_project\\\\Location.html\" ) "
   ]
  },
  {
   "cell_type": "code",
   "execution_count": null,
   "metadata": {},
   "outputs": [],
   "source": []
  }
 ],
 "metadata": {
  "kernelspec": {
   "display_name": "Python 3",
   "language": "python",
   "name": "python3"
  },
  "language_info": {
   "codemirror_mode": {
    "name": "ipython",
    "version": 3
   },
   "file_extension": ".py",
   "mimetype": "text/x-python",
   "name": "python",
   "nbconvert_exporter": "python",
   "pygments_lexer": "ipython3",
   "version": "3.7.2"
  }
 },
 "nbformat": 4,
 "nbformat_minor": 2
}
